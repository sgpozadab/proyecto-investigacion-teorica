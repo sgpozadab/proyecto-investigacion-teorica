{
 "cells": [
  {
   "cell_type": "code",
   "execution_count": 1,
   "id": "b763f7d2",
   "metadata": {},
   "outputs": [],
   "source": [
    "import numpy as np\n",
    "import matplotlib.pyplot as plt\n",
    "import pandas as pd\n",
    "import random"
   ]
  },
  {
   "cell_type": "code",
   "execution_count": 10,
   "id": "f69152dc",
   "metadata": {},
   "outputs": [],
   "source": [
    "#Definicion constantes\n",
    "N=1000 #numero de agentes\n",
    "M=1000 #dinero total\n",
    "W=50 #numero de estados\n",
    "nsteps=100000 #pasos de tiempo\n",
    "#random.seed(1)\n",
    "T=np.divide(M,N)#dinero promedio\n",
    "agents=np.zeros(N) #creamos un array en cada casilla tenemos el dinero del agente i-esimo"
   ]
  },
  {
   "cell_type": "code",
   "execution_count": 3,
   "id": "d1d52f01",
   "metadata": {},
   "outputs": [],
   "source": [
    "#1. funcion de inicializacion \n",
    "def initialize_agents(ag,size,prom):\n",
    "    for i in range(size):\n",
    "        ag[i]=prom "
   ]
  },
  {
   "cell_type": "code",
   "execution_count": 4,
   "id": "9de36d2c",
   "metadata": {},
   "outputs": [],
   "source": [
    "def interaction(ag,N,nsteps,Lambda):\n",
    "    epsilon=random.uniform(0,1)\n",
    "    l_entropia=[]\n",
    "    for k in range(nsteps):\n",
    "        i=random.randint(0,N-1)\n",
    "        j=random.randint(0,N-1)\n",
    "        mi=ag[i]\n",
    "        mj=ag[j]\n",
    "        delta_m=(1-Lambda)*(epsilon*mj-(1-epsilon)*mi)\n",
    "        if i!=j:\n",
    "            mi += delta_m\n",
    "            mj -= delta_m  \n",
    "        if (mi>=0) and (mj>=0):\n",
    "            ag[i]=mi\n",
    "            ag[j]=mj\n",
    "        #inter,frecu,s=entropia(ag,w)\n",
    "        #l_entropia.append(s)\n",
    "   # return l_entropia"
   ]
  },
  {
   "cell_type": "code",
   "execution_count": 5,
   "id": "f4cc5a2b",
   "metadata": {},
   "outputs": [],
   "source": [
    "def entropia(ag,w):\n",
    "    #parametros para los intervalos\n",
    "    S=ag.size # numero de agentes\n",
    "    Imin=np.min(ag)\n",
    "    Imax=np.max(ag)\n",
    "    ancho=np.divide((Imax-Imin),1.0*w)\n",
    "    intervalos=[]\n",
    "    #parametros calculo de la entropia de Shannon\n",
    "    pi=np.zeros(w)\n",
    "    pilnpi=np.zeros(w)\n",
    "    frec=np.zeros(w)\n",
    "    #crear los intervalos\n",
    "    for k in range(w):\n",
    "        mink=Imin+k*ancho\n",
    "        maxk=Imin+(k+1)*ancho\n",
    "        intervalos.append(mink)\n",
    "        #empezamos a calcular las frecuencias\n",
    "        if k==w-1: #para el ultimo intervalo la condicion debe ser cerrada para maxk\n",
    "            frec[k]=len(ag[(ag>=mink) & (ag<=maxk)])\n",
    "        else:\n",
    "            frec[k]=len(ag[(ag>=mink) & (ag<maxk)])\n",
    "        #una vez que ya tenemos la frecuencia, calculamos pi\n",
    "        pi[k]=np.divide(frec[k],1.0*S)\n",
    "        #calculamos pi*lnpi\n",
    "        if pi[k]==0:\n",
    "            pilnpi[k]=0\n",
    "        else:\n",
    "            pilnpi[k]=pi[k]*np.log(pi[k])\n",
    "    #agregamos el ultimo limite a los intervalos\n",
    "    intervalos.append(Imax)\n",
    "    #calculamos la suma de pilnpi\n",
    "    sumpilnpi=np.sum(pilnpi)\n",
    "    entropy=-1*sumpilnpi\n",
    "    #al final retornamos los intervalos, las frecuencias y la entropia\n",
    "    return intervalos,frec,entropy\n"
   ]
  },
  {
   "cell_type": "code",
   "execution_count": 17,
   "id": "f346ce55",
   "metadata": {},
   "outputs": [],
   "source": [
    "#funcion para calcular el gini\n",
    "def gini(df0):\n",
    "    N=df0.size\n",
    "    Itotal=np.sum(df0)\n",
    "    #creamos arrays para calcular poblacion e ingreso acumulado\n",
    "    Xing=np.zeros(N) #ingreso de cada individuo/ingreso total\n",
    "    Xcum=np.zeros(N) #ingreso acumulado\n",
    "    Xsum=np.zeros(N) #Xk+Xk-1\n",
    "    Ypob=np.zeros(N) #1/pobtotal\n",
    "    Ycum=np.zeros(N) #poblacion agregada\n",
    "    Ydiff=np.zeros(N) #Yk-Yk-1\n",
    "    XsumYdiff=np.zeros(N) #(Xk+Xk-1)(Yk-Yk-1)\n",
    "    \n",
    "    for i in range(N):\n",
    "        #llenamos array Xing\n",
    "        Xing[i]=1.0*df0[i]/Itotal\n",
    "        #llenamos array Xcum\n",
    "        if i==0:\n",
    "            Xcum[i]=Xing[i]\n",
    "        else:\n",
    "            Xcum[i]=Xing[i]+Xcum[i-1]\n",
    "        #llenamos array Xsum\n",
    "        if i==0:\n",
    "            Xsum[i]=Xcum[i]\n",
    "        else:\n",
    "            Xsum[i]=Xcum[i]+Xcum[i-1]\n",
    "        #hacemos lo mismo para Y\n",
    "        Ypob[i]=1.0/N\n",
    "        if i==0:\n",
    "            Ycum[i]=Ypob[i]\n",
    "        else:\n",
    "            Ycum[i]=Ypob[i]+Ycum[i-1]\n",
    "        if i==0:\n",
    "            Ydiff[i]=Ycum[i]\n",
    "        else:\n",
    "            Ydiff[i]=Ycum[i]-Ycum[i-1]\n",
    "        #llenar array de multiplicacion (Xk+Xk+1)(Yk-Yk-1)\n",
    "        XsumYdiff[i]=Xsum[i]*Ydiff[i]\n",
    "    #una vez todo este lleno calculamos la suma\n",
    "    sumaXsumYdiff=np.sum(XsumYdiff)\n",
    "    Gini=1.0-sumaXsumYdiff\n",
    "    return Xcum, Ycum, Gini"
   ]
  },
  {
   "cell_type": "code",
   "execution_count": 18,
   "id": "1d577a44",
   "metadata": {},
   "outputs": [],
   "source": [
    "#funcion para calcular el Theil\n",
    "def theil(df0):\n",
    "    N=df0.size\n",
    "    Itotal=np.sum(df0)\n",
    "    Ui=np.zeros(N) #array fraccion de ingreso con respecto al total\n",
    "    UilnUi=np.zeros(N)\n",
    "    for j in range(N):\n",
    "        Ui[j]=1.0*df0[j]/Itotal\n",
    "        if Ui[j]==0:\n",
    "            UilnUi[j]=0\n",
    "        else:\n",
    "            UilnUi[j]=Ui[j]*np.log(Ui[j])\n",
    "    #calculamos la suma Ui*lnUi\n",
    "    sumaUilnUi=np.sum(UilnUi)\n",
    "    Theil=1+sumaUilnUi\n",
    "    Theil_norm=1+np.divide(sumaUilnUi,np.log(N))\n",
    "    return Theil_norm"
   ]
  },
  {
   "cell_type": "code",
   "execution_count": 11,
   "id": "fb02e067",
   "metadata": {},
   "outputs": [],
   "source": [
    "#calcular vector de ingresos promedio al repetir varias veces la simulacion\n",
    "\n",
    "nsim=10000\n",
    "Lambda=0.1\n",
    "agentesprom=np.zeros([nsim,N])#creamos una matriz con nsim filas y N columnas\n",
    "#agentesprom=np.zeros(N)\n",
    "l_entroprom=[]\n",
    "\n",
    "for i in range(nsim):\n",
    "    initialize_agents(agents,N,T)\n",
    "    #l_entropia=interaction(agents,N,nsteps,W)\n",
    "    interaction(agents,N,nsteps,Lambda)\n",
    "    ag_sort=np.sort(agents)\n",
    "    agentesprom[i]=ag_sort\n",
    "    agents=np.zeros(N)\n",
    "    #for j in range(N):\n",
    "           #agentesprom[j] += np.divide(agents[j],1.0*nsim)\n",
    "\n",
    "#initialize_agents(agents,N,T)\n",
    "#l_entropia=interaction(agents,N,nsteps,W)"
   ]
  },
  {
   "cell_type": "code",
   "execution_count": 12,
   "id": "34b42419",
   "metadata": {},
   "outputs": [],
   "source": [
    "promedio_ag=np.mean(agentesprom,axis=0)"
   ]
  },
  {
   "cell_type": "code",
   "execution_count": 13,
   "id": "6e34b7a0",
   "metadata": {},
   "outputs": [],
   "source": [
    "intervals, frecuencies, s_eq=entropia(promedio_ag,W)"
   ]
  },
  {
   "cell_type": "code",
   "execution_count": 25,
   "id": "271c9aed",
   "metadata": {},
   "outputs": [
    {
     "data": {
      "text/plain": [
       "Text(0, 0.5, 'Distribucion de individuos')"
      ]
     },
     "execution_count": 25,
     "metadata": {},
     "output_type": "execute_result"
    },
    {
     "data": {
      "image/png": "[encoded data removed]",
      "text/plain": [
       "<Figure size 576x432 with 1 Axes>"
      ]
     },
     "metadata": {
      "needs_background": "light"
     },
     "output_type": "display_data"
    }
   ],
   "source": [
    "fig = plt.figure(figsize=(8,6))\n",
    "plt.hist(x=promedio_ag,bins=intervals,color=\"skyblue\",rwidth=0.85,lw=1,edgecolor='black')\n",
    "plt.xlabel('Rangos por ingreso')\n",
    "plt.ylabel('Distribucion de individuos')\n",
    "#plt.xticks(intervals)\n",
    "#fig.savefig('CC01.png')"
   ]
  },
  {
   "cell_type": "code",
   "execution_count": 16,
   "id": "988828d4",
   "metadata": {},
   "outputs": [],
   "source": [
    "#enviar datos a excel\n",
    "#df1=pd.DataFrame(data=promedio_ag)\n",
    "#df1.to_excel('promedioagentesCC01.xlsx')"
   ]
  },
  {
   "cell_type": "code",
   "execution_count": 20,
   "id": "033e7ab6",
   "metadata": {},
   "outputs": [
    {
     "name": "stdout",
     "output_type": "stream",
     "text": [
      "Intervalos : [0.23147241 0.37696631 0.52246021 0.66795411 0.81344801 0.95894192\n",
      " 1.10443582 1.24992972 1.39542362 1.54091752 1.68641143 1.83190533\n",
      " 1.97739923 2.12289313 2.26838703 2.41388094 2.55937484 2.70486874\n",
      " 2.85036264 2.99585654 3.14135045 3.28684435 3.43233825 3.57783215\n",
      " 3.72332605 3.86881996 4.01431386 4.15980776 4.30530166 4.45079556\n",
      " 4.59628947 4.74178337 4.88727727 5.03277117 5.17826507 5.32375898\n",
      " 5.46925288 5.61474678 5.76024068 5.90573458 6.05122849 6.19672239\n",
      " 6.34221629 6.48771019 6.63320409 6.778698   6.9241919  7.0696858\n",
      " 7.2151797  7.3606736  7.50616751]\n",
      "ni por rango: [112. 200. 159. 115.  83.  61.  46.  36.  28.  23.  19.  15.  13.  11.\n",
      "  10.   8.   7.   7.   5.   5.   5.   4.   3.   3.   3.   2.   2.   2.\n",
      "   2.   1.   1.   1.   1.   1.   1.   1.   0.   1.   0.   1.   0.   0.\n",
      "   0.   1.   0.   0.   0.   0.   0.   0.]\n"
     ]
    }
   ],
   "source": [
    "print(\"Intervalos :\", intervals)\n",
    "print(\"ni por rango:\", frecuencies)"
   ]
  },
  {
   "cell_type": "code",
   "execution_count": 21,
   "id": "9a97a9ff",
   "metadata": {},
   "outputs": [],
   "source": [
    "#enviar datos a excel\n",
    "#IntervalosCC01=pd.DataFrame(data=intervals)\n",
    "#FrecCC01=pd.DataFrame(data=frecuencies)\n",
    "#IntervalosCC01.to_excel('intervalosCC01.xlsx')\n",
    "#FrecCC01.to_excel('frecuCC01.xlsx')"
   ]
  },
  {
   "cell_type": "code",
   "execution_count": 30,
   "id": "fc60f48f",
   "metadata": {},
   "outputs": [
    {
     "data": {
      "text/plain": [
       "True"
      ]
     },
     "execution_count": 30,
     "metadata": {},
     "output_type": "execute_result"
    }
   ],
   "source": [
    "#Gini\n",
    "#Primero Verificamos que nuestro vector de dinero promedio este ordenado\n",
    "np.all(np.diff(promedio_ag) >= 0)\n"
   ]
  },
  {
   "cell_type": "code",
   "execution_count": 31,
   "id": "497abfb2",
   "metadata": {},
   "outputs": [
    {
     "name": "stdout",
     "output_type": "stream",
     "text": [
      "El índice de Gini: \n",
      "0.3923325720752131\n"
     ]
    }
   ],
   "source": [
    "#Calculamos el Gini\n",
    "lista1Xcum, lista1Ycum, l1gini = gini(promedio_ag)\n",
    "\n",
    "print('El índice de Gini: ')\n",
    "print(l1gini)\n",
    "#print(np.sum(promedio_ag))"
   ]
  },
  {
   "cell_type": "code",
   "execution_count": 32,
   "id": "23172b49",
   "metadata": {},
   "outputs": [
    {
     "name": "stdout",
     "output_type": "stream",
     "text": [
      "El índice de Theil: \n",
      "0.039440734770458286\n"
     ]
    }
   ],
   "source": [
    "#Theil \n",
    "print('El índice de Theil: ')\n",
    "l1theil=theil(promedio_ag)\n",
    "print(l1theil)"
   ]
  },
  {
   "cell_type": "code",
   "execution_count": 35,
   "id": "386129d0",
   "metadata": {},
   "outputs": [
    {
     "name": "stdout",
     "output_type": "stream",
     "text": [
      "La entropia de Shannon para m=W: \n",
      "2.6047100156657077\n"
     ]
    }
   ],
   "source": [
    "#La entropia de Shannon para m=W\n",
    "print('La entropia de Shannon para m=W: ')\n",
    "inter,l1frecW,l1entrW = entropia(promedio_ag,W)\n",
    "print(l1entrW)"
   ]
  },
  {
   "cell_type": "code",
   "execution_count": 36,
   "id": "d9932b34",
   "metadata": {},
   "outputs": [
    {
     "name": "stdout",
     "output_type": "stream",
     "text": [
      "La entropia de Shannon para m=20: \n",
      "1.7212014610625208\n",
      "La entropia de Shannon para m=10: \n",
      "1.0524464477901685\n"
     ]
    }
   ],
   "source": [
    "#La entropia de Shannon para m=20\n",
    "print('La entropia de Shannon para m=20: ')\n",
    "inter20,l1frec20,l1entr20 = entropia(promedio_ag,20)\n",
    "print(l1entr20)\n",
    "#La entropia de Shannon para m=20\n",
    "print('La entropia de Shannon para m=10: ')\n",
    "inter10,l1frec10,l1entr10 = entropia(promedio_ag,10)\n",
    "print(l1entr10)"
   ]
  },
  {
   "cell_type": "code",
   "execution_count": null,
   "id": "ef2bbc39",
   "metadata": {},
   "outputs": [],
   "source": []
  }
 ],
 "metadata": {
  "kernelspec": {
   "display_name": "Python 3",
   "language": "python",
   "name": "python3"
  },
  "language_info": {
   "codemirror_mode": {
    "name": "ipython",
    "version": 3
   },
   "file_extension": ".py",
   "mimetype": "text/x-python",
   "name": "python",
   "nbconvert_exporter": "python",
   "pygments_lexer": "ipython3",
   "version": "3.8.8"
  }
 },
 "nbformat": 4,
 "nbformat_minor": 5
}
